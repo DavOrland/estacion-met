{
 "cells": [
  {
   "cell_type": "markdown",
   "metadata": {},
   "source": [
    "# Librerias"
   ]
  },
  {
   "cell_type": "code",
   "execution_count": 2,
   "metadata": {},
   "outputs": [],
   "source": [
    "import os\n",
    "import pandas as pd"
   ]
  },
  {
   "cell_type": "markdown",
   "metadata": {},
   "source": [
    "# Carga de datos"
   ]
  },
  {
   "cell_type": "code",
   "execution_count": 3,
   "metadata": {},
   "outputs": [
    {
     "name": "stdout",
     "output_type": "stream",
     "text": [
      "Archivos en la carpeta 'datos_est_hipodromo':\n",
      "air_quality_data_3.csv\n",
      "air_quality_data_9.csv\n",
      "air_quality_data_13.csv\n",
      "air_quality_data_7.csv\n",
      "get_hourly_air_quality_4.csv\n",
      "air_quality_data_1000.csv\n",
      "air_quality_data_2.csv\n",
      "get_hourly_air_quality_8.csv\n",
      "get_hourly_air_quality_1.csv\n",
      "air_quality_data_8.csv\n",
      "get_hourly_air_quality_9.csv\n",
      "get_hourly_air_quality_2.csv\n",
      "air_quality_data_12.csv\n",
      "get_hourly_air_quality_1001.csv\n",
      "air_quality_data_1.csv\n",
      "air_quality_data_1001.csv\n",
      "get_hourly_air_quality_12.csv\n",
      "get_hourly_air_quality_1000.csv\n",
      "get_hourly_air_quality_3.csv\n",
      "air_quality_data_4.csv\n",
      "get_hourly_air_quality_7.csv\n",
      "get_hourly_air_quality_13.csv\n"
     ]
    }
   ],
   "source": [
    "\n",
    "# Ruta de la carpeta\n",
    "directorio = '../data/raw/datos_est_hipodromo'\n",
    "\n",
    "# Verificar directorio\n",
    "if os.path.exists(directorio) and os.path.isdir(directorio):\n",
    "    # Lista de archivos en el directorio\n",
    "    lista_archivos = os.listdir(directorio)\n",
    "    \n",
    "    # Filtrar solo los archivos \n",
    "    nombres_archivos = [archivo for archivo in lista_archivos if os.path.isfile(os.path.join(directorio, archivo))]\n",
    "    \n",
    "    #  Print\n",
    "    print(\"Archivos en la carpeta 'datos_est_hipodromo':\")\n",
    "    for nombre in nombres_archivos:\n",
    "        print(nombre)\n",
    "else:\n",
    "    print(f\"La carpeta '{directorio}' no existe o no es un directorio.\")"
   ]
  },
  {
   "cell_type": "markdown",
   "metadata": {},
   "source": [
    "# Generacion de 1 solo CSV"
   ]
  },
  {
   "cell_type": "code",
   "execution_count": 4,
   "metadata": {},
   "outputs": [
    {
     "name": "stdout",
     "output_type": "stream",
     "text": [
      "El archivo '../data/processed/AQ_total.csv' ha sido creado con éxito.\n"
     ]
    }
   ],
   "source": [
    "# Mapa de sensores\n",
    "sensors = [\n",
    "    {\"idSensor\": 1, \"description\": \"Battery\"},\n",
    "    {\"idSensor\": 2, \"description\": \"Carbon Monoxide\"},\n",
    "    {\"idSensor\": 3, \"description\": \"Relative Humidity\"},\n",
    "    {\"idSensor\": 4, \"description\": \"Location\"},\n",
    "    {\"idSensor\": 7, \"description\": \"Ozone\"},\n",
    "    {\"idSensor\": 8, \"description\": \"PM10\"},\n",
    "    {\"idSensor\": 9, \"description\": \"PM2.5\"},\n",
    "    {\"idSensor\": 12, \"description\": \"Temperature\"},\n",
    "    {\"idSensor\": 13, \"description\": \"Device Mode\"},\n",
    "    {\"idSensor\": 1000, \"description\": \"IAS\"},\n",
    "    {\"idSensor\": 1001, \"description\": \"AQI\"}\n",
    "]\n",
    "\n",
    "# Crear un diccionario para las descripciones\n",
    "sensor_dict = {sensor[\"idSensor\"]: sensor[\"description\"] for sensor in sensors}\n",
    "\n",
    "# Ruta del directorio donde están los archivos CSV\n",
    "output_dir = '../data/processed'  # Dirección de salida para el CSV\n",
    "output_file = os.path.join(output_dir, 'AQ_total.csv')\n",
    "\n",
    "# Crear el directorio de salida si no existe\n",
    "os.makedirs(output_dir, exist_ok=True)\n",
    "\n",
    "#DataFrame vacío para almacenar los resultados\n",
    "resultados = pd.DataFrame()\n",
    "\n",
    "# Leer los archivos CSV que empiezan con air_quality_data_\n",
    "for idSensor in sensor_dict.keys():\n",
    "    archivo = f'air_quality_data_{idSensor}.csv'\n",
    "    ruta_archivo = os.path.join(directorio, archivo)\n",
    "    \n",
    "    # Verificar si el archivo existe\n",
    "    if os.path.exists(ruta_archivo):\n",
    "        # Leer el archivo CSV\n",
    "        df = pd.read_csv(ruta_archivo)\n",
    "        \n",
    "        # Asignan la columna de la descripción al DataFrame según el sensor\n",
    "        if 'TimeStamp' in df.columns:\n",
    "            # Usar la descripción del sensor como nombre de columna\n",
    "            descripcion = sensor_dict[idSensor] \n",
    "            resultados[descripcion] = df.iloc[:, 0]  # Columna de la descripción\n",
    "    \n",
    "# Leer el archivo de air_quality_data_3 para obtener timestamps\n",
    "timestamp_file = os.path.join(directorio, 'air_quality_data_3.csv')\n",
    "if os.path.exists(timestamp_file):\n",
    "    timestamp_df = pd.read_csv(timestamp_file)\n",
    "    \n",
    "    # Asumimos que queremos la columna 'TimeStamp'\n",
    "    if 'TimeStamp' in timestamp_df.columns:\n",
    "        resultados['TimeStamp'] = timestamp_df['TimeStamp']\n",
    "\n",
    "# Guardar el DataFrame resultante en un nuevo CSV\n",
    "resultados.to_csv(output_file, index=False)\n",
    "print(f\"El archivo '{output_file}' ha sido creado con éxito.\")"
   ]
  },
  {
   "cell_type": "markdown",
   "metadata": {},
   "source": [
    "# Limpieza de CSV\n"
   ]
  },
  {
   "cell_type": "code",
   "execution_count": 5,
   "metadata": {},
   "outputs": [
    {
     "name": "stderr",
     "output_type": "stream",
     "text": [
      "/tmp/ipykernel_723/392499603.py:3: DtypeWarning: Columns (3,9,10) have mixed types. Specify dtype option on import or set low_memory=False.\n",
      "  df = pd.read_csv(file_path)\n"
     ]
    },
    {
     "name": "stdout",
     "output_type": "stream",
     "text": [
      "Archivo modificado y guardado con éxito.\n"
     ]
    }
   ],
   "source": [
    "\n",
    "# Leer el archivo CSV\n",
    "file_path = \"../data/processed/AQ_total.csv\"\n",
    "df = pd.read_csv(file_path)\n",
    "\n",
    "# Reemplazar los valores de la columna \"Location\"\n",
    "df[\"Location\"] = \"19.414782,-99.167183\"\n",
    "\n",
    "# Eliminar las columnas \"IAS\" y \"AQI\"\n",
    "df = df.drop(columns=[\"IAS\", \"AQI\"])\n",
    "\n",
    "# Guardar el archivo modificado en una nueva ubicación o sobrescribir el original\n",
    "output_path = \"../data/processed/AQ_total.csv\"\n",
    "df.to_csv(output_path, index=False)\n",
    "\n",
    "print(\"Archivo modificado y guardado con éxito.\")\n"
   ]
  },
  {
   "cell_type": "code",
   "execution_count": null,
   "metadata": {},
   "outputs": [],
   "source": []
  }
 ],
 "metadata": {
  "kernelspec": {
   "display_name": "Python 3",
   "language": "python",
   "name": "python3"
  },
  "language_info": {
   "codemirror_mode": {
    "name": "ipython",
    "version": 3
   },
   "file_extension": ".py",
   "mimetype": "text/x-python",
   "name": "python",
   "nbconvert_exporter": "python",
   "pygments_lexer": "ipython3",
   "version": "3.12.9"
  }
 },
 "nbformat": 4,
 "nbformat_minor": 2
}
